{
 "cells": [
  {
   "cell_type": "code",
   "execution_count": 2,
   "metadata": {},
   "outputs": [
    {
     "name": "stdout",
     "output_type": "stream",
     "text": [
      "Collecting pandas\n",
      "  Obtaining dependency information for pandas from https://files.pythonhosted.org/packages/71/00/6beaeeba7f075d15ea167a5caa039b861e58ff2f58a5b659abb9b544c8f6/pandas-2.2.1-cp312-cp312-win_amd64.whl.metadata\n",
      "  Downloading pandas-2.2.1-cp312-cp312-win_amd64.whl.metadata (19 kB)\n",
      "Collecting numpy<2,>=1.26.0 (from pandas)\n",
      "  Obtaining dependency information for numpy<2,>=1.26.0 from https://files.pythonhosted.org/packages/16/2e/86f24451c2d530c88daf997cb8d6ac622c1d40d19f5a031ed68a4b73a374/numpy-1.26.4-cp312-cp312-win_amd64.whl.metadata\n",
      "  Downloading numpy-1.26.4-cp312-cp312-win_amd64.whl.metadata (61 kB)\n",
      "     ---------------------------------------- 0.0/61.0 kB ? eta -:--:--\n",
      "     ---------------------------------------- 61.0/61.0 kB 1.6 MB/s eta 0:00:00\n",
      "Requirement already satisfied: python-dateutil>=2.8.2 in c:\\users\\axjos\\appdata\\roaming\\python\\python312\\site-packages (from pandas) (2.9.0.post0)\n",
      "Collecting pytz>=2020.1 (from pandas)\n",
      "  Obtaining dependency information for pytz>=2020.1 from https://files.pythonhosted.org/packages/9c/3d/a121f284241f08268b21359bd425f7d4825cffc5ac5cd0e1b3d82ffd2b10/pytz-2024.1-py2.py3-none-any.whl.metadata\n",
      "  Downloading pytz-2024.1-py2.py3-none-any.whl.metadata (22 kB)\n",
      "Collecting tzdata>=2022.7 (from pandas)\n",
      "  Obtaining dependency information for tzdata>=2022.7 from https://files.pythonhosted.org/packages/65/58/f9c9e6be752e9fcb8b6a0ee9fb87e6e7a1f6bcab2cdc73f02bb7ba91ada0/tzdata-2024.1-py2.py3-none-any.whl.metadata\n",
      "  Downloading tzdata-2024.1-py2.py3-none-any.whl.metadata (1.4 kB)\n",
      "Requirement already satisfied: six>=1.5 in c:\\users\\axjos\\appdata\\roaming\\python\\python312\\site-packages (from python-dateutil>=2.8.2->pandas) (1.16.0)\n",
      "Downloading pandas-2.2.1-cp312-cp312-win_amd64.whl (11.5 MB)\n",
      "   ---------------------------------------- 0.0/11.5 MB ? eta -:--:--\n",
      "   - -------------------------------------- 0.3/11.5 MB 9.6 MB/s eta 0:00:02\n",
      "   -- ------------------------------------- 0.7/11.5 MB 9.3 MB/s eta 0:00:02\n",
      "   ---- ----------------------------------- 1.2/11.5 MB 9.8 MB/s eta 0:00:02\n",
      "   ------ --------------------------------- 1.8/11.5 MB 10.7 MB/s eta 0:00:01\n",
      "   ------- -------------------------------- 2.3/11.5 MB 10.4 MB/s eta 0:00:01\n",
      "   --------- ------------------------------ 2.7/11.5 MB 10.0 MB/s eta 0:00:01\n",
      "   ---------- ----------------------------- 2.9/11.5 MB 9.8 MB/s eta 0:00:01\n",
      "   ----------- ---------------------------- 3.2/11.5 MB 9.2 MB/s eta 0:00:01\n",
      "   ------------ --------------------------- 3.6/11.5 MB 8.7 MB/s eta 0:00:01\n",
      "   ------------- -------------------------- 3.9/11.5 MB 8.5 MB/s eta 0:00:01\n",
      "   -------------- ------------------------- 4.2/11.5 MB 8.3 MB/s eta 0:00:01\n",
      "   --------------- ------------------------ 4.4/11.5 MB 8.3 MB/s eta 0:00:01\n",
      "   ---------------- ----------------------- 4.7/11.5 MB 8.1 MB/s eta 0:00:01\n",
      "   ----------------- ---------------------- 5.0/11.5 MB 7.8 MB/s eta 0:00:01\n",
      "   ------------------ --------------------- 5.3/11.5 MB 7.7 MB/s eta 0:00:01\n",
      "   ------------------- -------------------- 5.6/11.5 MB 7.7 MB/s eta 0:00:01\n",
      "   -------------------- ------------------- 5.9/11.5 MB 7.8 MB/s eta 0:00:01\n",
      "   --------------------- ------------------ 6.2/11.5 MB 7.6 MB/s eta 0:00:01\n",
      "   ---------------------- ----------------- 6.6/11.5 MB 7.5 MB/s eta 0:00:01\n",
      "   ------------------------ --------------- 6.9/11.5 MB 7.5 MB/s eta 0:00:01\n",
      "   ------------------------- -------------- 7.2/11.5 MB 7.4 MB/s eta 0:00:01\n",
      "   -------------------------- ------------- 7.5/11.5 MB 7.4 MB/s eta 0:00:01\n",
      "   --------------------------- ------------ 7.9/11.5 MB 7.4 MB/s eta 0:00:01\n",
      "   ---------------------------- ----------- 8.3/11.5 MB 7.5 MB/s eta 0:00:01\n",
      "   ------------------------------ --------- 8.8/11.5 MB 7.7 MB/s eta 0:00:01\n",
      "   -------------------------------- ------- 9.4/11.5 MB 7.9 MB/s eta 0:00:01\n",
      "   ---------------------------------- ----- 10.0/11.5 MB 8.1 MB/s eta 0:00:01\n",
      "   ------------------------------------- -- 10.7/11.5 MB 8.2 MB/s eta 0:00:01\n",
      "   ---------------------------------------  11.3/11.5 MB 8.4 MB/s eta 0:00:01\n",
      "   ---------------------------------------  11.5/11.5 MB 8.4 MB/s eta 0:00:01\n",
      "   ---------------------------------------- 11.5/11.5 MB 8.1 MB/s eta 0:00:00\n",
      "Downloading numpy-1.26.4-cp312-cp312-win_amd64.whl (15.5 MB)\n",
      "   ---------------------------------------- 0.0/15.5 MB ? eta -:--:--\n",
      "   - -------------------------------------- 0.6/15.5 MB 20.1 MB/s eta 0:00:01\n",
      "   --- ------------------------------------ 1.2/15.5 MB 15.1 MB/s eta 0:00:01\n",
      "   ---- ----------------------------------- 1.9/15.5 MB 15.2 MB/s eta 0:00:01\n",
      "   ------ --------------------------------- 2.6/15.5 MB 14.9 MB/s eta 0:00:01\n",
      "   -------- ------------------------------- 3.3/15.5 MB 15.0 MB/s eta 0:00:01\n",
      "   ---------- ----------------------------- 4.1/15.5 MB 15.5 MB/s eta 0:00:01\n",
      "   ------------ --------------------------- 4.9/15.5 MB 15.7 MB/s eta 0:00:01\n",
      "   -------------- ------------------------- 5.6/15.5 MB 15.7 MB/s eta 0:00:01\n",
      "   ---------------- ----------------------- 6.4/15.5 MB 15.7 MB/s eta 0:00:01\n",
      "   ------------------ --------------------- 7.1/15.5 MB 15.7 MB/s eta 0:00:01\n",
      "   -------------------- ------------------- 8.0/15.5 MB 16.0 MB/s eta 0:00:01\n",
      "   ---------------------- ----------------- 8.8/15.5 MB 16.0 MB/s eta 0:00:01\n",
      "   ------------------------ --------------- 9.6/15.5 MB 16.2 MB/s eta 0:00:01\n",
      "   --------------------------- ------------ 10.5/15.5 MB 16.4 MB/s eta 0:00:01\n",
      "   ---------------------------- ----------- 11.2/15.5 MB 16.4 MB/s eta 0:00:01\n",
      "   ------------------------------- -------- 12.1/15.5 MB 16.8 MB/s eta 0:00:01\n",
      "   -------------------------------- ------- 12.8/15.5 MB 16.8 MB/s eta 0:00:01\n",
      "   ----------------------------------- ---- 13.7/15.5 MB 17.2 MB/s eta 0:00:01\n",
      "   ------------------------------------- -- 14.5/15.5 MB 17.2 MB/s eta 0:00:01\n",
      "   ---------------------------------------  15.3/15.5 MB 17.2 MB/s eta 0:00:01\n",
      "   ---------------------------------------  15.5/15.5 MB 17.3 MB/s eta 0:00:01\n",
      "   ---------------------------------------- 15.5/15.5 MB 16.0 MB/s eta 0:00:00\n",
      "Downloading pytz-2024.1-py2.py3-none-any.whl (505 kB)\n",
      "   ---------------------------------------- 0.0/505.5 kB ? eta -:--:--\n",
      "   --------------------------------------- 505.5/505.5 kB 16.0 MB/s eta 0:00:00\n",
      "Downloading tzdata-2024.1-py2.py3-none-any.whl (345 kB)\n",
      "   ---------------------------------------- 0.0/345.4 kB ? eta -:--:--\n",
      "   --------------------------------------- 345.4/345.4 kB 20.9 MB/s eta 0:00:00\n",
      "Installing collected packages: pytz, tzdata, numpy, pandas\n",
      "Successfully installed numpy-1.26.4 pandas-2.2.1 pytz-2024.1 tzdata-2024.1\n"
     ]
    },
    {
     "name": "stderr",
     "output_type": "stream",
     "text": [
      "\n",
      "[notice] A new release of pip is available: 23.2.1 -> 24.0\n",
      "[notice] To update, run: python.exe -m pip install --upgrade pip\n"
     ]
    },
    {
     "ename": "ModuleNotFoundError",
     "evalue": "No module named 'matplotlib'",
     "output_type": "error",
     "traceback": [
      "\u001b[1;31m---------------------------------------------------------------------------\u001b[0m",
      "\u001b[1;31mModuleNotFoundError\u001b[0m                       Traceback (most recent call last)",
      "Cell \u001b[1;32mIn[2], line 5\u001b[0m\n\u001b[0;32m      3\u001b[0m \u001b[38;5;28;01mimport\u001b[39;00m \u001b[38;5;21;01mpandas\u001b[39;00m \u001b[38;5;28;01mas\u001b[39;00m \u001b[38;5;21;01mpd\u001b[39;00m\n\u001b[0;32m      4\u001b[0m \u001b[38;5;28;01mimport\u001b[39;00m \u001b[38;5;21;01mnumpy\u001b[39;00m \u001b[38;5;28;01mas\u001b[39;00m \u001b[38;5;21;01mnp\u001b[39;00m\n\u001b[1;32m----> 5\u001b[0m \u001b[38;5;28;01mimport\u001b[39;00m \u001b[38;5;21;01mmatplotlib\u001b[39;00m\u001b[38;5;21;01m.\u001b[39;00m\u001b[38;5;21;01mpyplot\u001b[39;00m \u001b[38;5;28;01mas\u001b[39;00m \u001b[38;5;21;01mplt\u001b[39;00m\n\u001b[0;32m      7\u001b[0m df \u001b[38;5;241m=\u001b[39m pd\u001b[38;5;241m.\u001b[39mread_csv(\u001b[38;5;124m'\u001b[39m\u001b[38;5;124mDataHacks_Workshop.csv\u001b[39m\u001b[38;5;124m'\u001b[39m)\n\u001b[0;32m      8\u001b[0m df\u001b[38;5;241m.\u001b[39mhead()\n",
      "\u001b[1;31mModuleNotFoundError\u001b[0m: No module named 'matplotlib'"
     ]
    }
   ],
   "source": [
    "import folium\n",
    "\n",
    "# Taking a sample of the dataframe since 90k is too many points LOL\n",
    "sample = df.sample(n = 500)\n",
    "\n",
    "# Create a map centered around at the mean latitude/longitude of the data\n",
    "mymap = folium.Map(location = [sample['lat'].mean(), sample['lng'].mean()], zoom_start = 12)\n",
    "\n",
    "# Add points to the map\n",
    "for index, row in sample.iterrows():\n",
    "    folium.Marker([row['lat'], row['lng']]).add_to(mymap)\n",
    "\n",
    "# Display the map in Jupyter Notebook\n",
    "mymap"
   ]
  },
  {
   "cell_type": "code",
   "execution_count": null,
   "metadata": {},
   "outputs": [],
   "source": []
  }
 ],
 "metadata": {
  "kernelspec": {
   "display_name": "Python 3",
   "language": "python",
   "name": "python3"
  },
  "language_info": {
   "codemirror_mode": {
    "name": "ipython",
    "version": 3
   },
   "file_extension": ".py",
   "mimetype": "text/x-python",
   "name": "python",
   "nbconvert_exporter": "python",
   "pygments_lexer": "ipython3",
   "version": "undefined.undefined.undefined"
  }
 },
 "nbformat": 4,
 "nbformat_minor": 2
}
